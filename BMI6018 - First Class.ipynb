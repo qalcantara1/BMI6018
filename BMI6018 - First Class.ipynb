{
 "cells": [
  {
   "cell_type": "code",
   "execution_count": 1,
   "id": "e6e2371d-7a52-487b-95f5-7c0546cee479",
   "metadata": {},
   "outputs": [],
   "source": [
    "output = \"I, Queren Alcantara, have successfully installed and run a python program on my computer!\""
   ]
  },
  {
   "cell_type": "code",
   "execution_count": 2,
   "id": "bb066fc3-c91c-4f99-bc6c-4fef789ab7c2",
   "metadata": {},
   "outputs": [
    {
     "name": "stdout",
     "output_type": "stream",
     "text": [
      "I, Queren Alcantara, have successfully installed and run a python program on my computer!\n"
     ]
    }
   ],
   "source": [
    "print(output)"
   ]
  },
  {
   "cell_type": "code",
   "execution_count": null,
   "id": "c1629426-eb12-40b2-921b-7ed44c43f768",
   "metadata": {},
   "outputs": [],
   "source": []
  }
 ],
 "metadata": {
  "kernelspec": {
   "display_name": "Python 3 (ipykernel)",
   "language": "python",
   "name": "python3"
  },
  "language_info": {
   "codemirror_mode": {
    "name": "ipython",
    "version": 3
   },
   "file_extension": ".py",
   "mimetype": "text/x-python",
   "name": "python",
   "nbconvert_exporter": "python",
   "pygments_lexer": "ipython3",
   "version": "3.13.5"
  }
 },
 "nbformat": 4,
 "nbformat_minor": 5
}
