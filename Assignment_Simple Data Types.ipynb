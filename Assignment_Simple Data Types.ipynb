{
 "cells": [
  {
   "cell_type": "code",
   "execution_count": 1,
   "id": "92d85795-f987-4f6f-9a47-96954d5d9dcb",
   "metadata": {},
   "outputs": [],
   "source": [
    "#Question 01"
   ]
  },
  {
   "cell_type": "code",
   "execution_count": 3,
   "id": "81a079b1-41c0-4689-940e-8d16d2054e2f",
   "metadata": {},
   "outputs": [],
   "source": [
    "## Booleans "
   ]
  },
  {
   "cell_type": "code",
   "execution_count": null,
   "id": "c5122a09-a72f-4e63-94ba-90af991d1663",
   "metadata": {},
   "outputs": [],
   "source": [
    "## boolean True + boolean True - boolean False = ? "
   ]
  },
  {
   "cell_type": "code",
   "execution_count": 2,
   "id": "98fd2db7-b185-4db9-b8ed-1ecc1586feb9",
   "metadata": {},
   "outputs": [
    {
     "data": {
      "text/plain": [
       "2"
      ]
     },
     "execution_count": 2,
     "metadata": {},
     "output_type": "execute_result"
    }
   ],
   "source": [
    "True + True - False"
   ]
  },
  {
   "cell_type": "code",
   "execution_count": 4,
   "id": "ba7618dd-d263-4784-bcf9-a808bd186ecc",
   "metadata": {},
   "outputs": [],
   "source": [
    "#Question 02"
   ]
  },
  {
   "cell_type": "code",
   "execution_count": 5,
   "id": "47d61e14-b181-4a73-b83a-3bfc1e7537c1",
   "metadata": {},
   "outputs": [],
   "source": [
    "## Logical Tracker"
   ]
  },
  {
   "cell_type": "code",
   "execution_count": 7,
   "id": "c6a72a36-3087-4325-91ff-1f63bcdc2721",
   "metadata": {},
   "outputs": [],
   "source": [
    "logical_tracker = True"
   ]
  },
  {
   "cell_type": "code",
   "execution_count": 8,
   "id": "ca4d60c0-a7b3-4d31-8c87-e8679eb8c23d",
   "metadata": {},
   "outputs": [
    {
     "data": {
      "text/plain": [
       "True"
      ]
     },
     "execution_count": 8,
     "metadata": {},
     "output_type": "execute_result"
    }
   ],
   "source": [
    "logical_tracker & logical_tracker"
   ]
  },
  {
   "cell_type": "code",
   "execution_count": 11,
   "id": "bde466b1-c6ca-4d7c-a88a-b537897a979f",
   "metadata": {},
   "outputs": [
    {
     "data": {
      "text/plain": [
       "0"
      ]
     },
     "execution_count": 11,
     "metadata": {},
     "output_type": "execute_result"
    }
   ],
   "source": [
    "(logical_tracker - logical_tracker)"
   ]
  },
  {
   "cell_type": "code",
   "execution_count": 9,
   "id": "b69f0e89-8a7c-4e98-b231-bd8809ee7ab4",
   "metadata": {},
   "outputs": [],
   "source": [
    "logical_tracker = logical_tracker | (logical_tracker - logical_tracker)"
   ]
  },
  {
   "cell_type": "code",
   "execution_count": 10,
   "id": "60cb105a-ad14-4041-a344-8e34c551aae0",
   "metadata": {},
   "outputs": [
    {
     "data": {
      "text/plain": [
       "1"
      ]
     },
     "execution_count": 10,
     "metadata": {},
     "output_type": "execute_result"
    }
   ],
   "source": [
    "logical_tracker"
   ]
  },
  {
   "cell_type": "code",
   "execution_count": 12,
   "id": "3d3c1e5e-5ab3-4367-b1ab-f63606c00f7e",
   "metadata": {},
   "outputs": [],
   "source": [
    "#Question 5"
   ]
  },
  {
   "cell_type": "code",
   "execution_count": 13,
   "id": "4f3ddb7f-f85b-4d55-a425-78fe114ef8e5",
   "metadata": {},
   "outputs": [],
   "source": [
    "## Strings"
   ]
  },
  {
   "cell_type": "code",
   "execution_count": 14,
   "id": "3ef2b3ee-a584-40aa-80e0-64da9c5b1306",
   "metadata": {},
   "outputs": [],
   "source": [
    "string = \"E. Coli\""
   ]
  },
  {
   "cell_type": "code",
   "execution_count": 15,
   "id": "8917a351-e0b4-47cd-9c20-b8fa259ca853",
   "metadata": {},
   "outputs": [
    {
     "data": {
      "text/plain": [
       "' '"
      ]
     },
     "execution_count": 15,
     "metadata": {},
     "output_type": "execute_result"
    }
   ],
   "source": [
    "string[2]"
   ]
  },
  {
   "cell_type": "code",
   "execution_count": 16,
   "id": "a3716d5e-3b80-4d77-8347-170021546f53",
   "metadata": {},
   "outputs": [],
   "source": [
    "#Question 6"
   ]
  },
  {
   "cell_type": "code",
   "execution_count": 17,
   "id": "1c45378d-1c78-4c80-aec1-8da1aa9a6758",
   "metadata": {},
   "outputs": [],
   "source": [
    "string = \"I Bove python\""
   ]
  },
  {
   "cell_type": "code",
   "execution_count": 18,
   "id": "09ef6517-b767-4d77-8c15-7253227b9847",
   "metadata": {},
   "outputs": [
    {
     "ename": "TypeError",
     "evalue": "'str' object does not support item assignment",
     "output_type": "error",
     "traceback": [
      "\u001b[0;31m---------------------------------------------------------------------------\u001b[0m",
      "\u001b[0;31mTypeError\u001b[0m                                 Traceback (most recent call last)",
      "Cell \u001b[0;32mIn[18], line 1\u001b[0m\n\u001b[0;32m----> 1\u001b[0m string[\u001b[38;5;241m2\u001b[39m]\u001b[38;5;241m=\u001b[39m\u001b[38;5;124m\"\u001b[39m\u001b[38;5;124mL\u001b[39m\u001b[38;5;124m\"\u001b[39m\n",
      "\u001b[0;31mTypeError\u001b[0m: 'str' object does not support item assignment"
     ]
    }
   ],
   "source": [
    "string[2]=\"L\""
   ]
  },
  {
   "cell_type": "code",
   "execution_count": 24,
   "id": "05d3f44e-f5b8-40ab-b5a1-55222e2838b2",
   "metadata": {},
   "outputs": [],
   "source": [
    "#Question 9"
   ]
  },
  {
   "cell_type": "code",
   "execution_count": 27,
   "id": "2ba68bef-99e0-4a90-bdec-6ea2130d695a",
   "metadata": {},
   "outputs": [
    {
     "data": {
      "text/plain": [
       "2"
      ]
     },
     "execution_count": 27,
     "metadata": {},
     "output_type": "execute_result"
    }
   ],
   "source": [
    "1+1 #integers"
   ]
  },
  {
   "cell_type": "code",
   "execution_count": 32,
   "id": "cc515cbe-a6f7-4813-bfb7-a3f40f31ee00",
   "metadata": {},
   "outputs": [
    {
     "data": {
      "text/plain": [
       "'add strings together'"
      ]
     },
     "execution_count": 32,
     "metadata": {},
     "output_type": "execute_result"
    }
   ],
   "source": [
    "\"add\" + \" strings\" + \" together\" #strings"
   ]
  },
  {
   "cell_type": "code",
   "execution_count": 25,
   "id": "27c44696-320f-494b-8c88-cf39f2f23d63",
   "metadata": {},
   "outputs": [],
   "source": [
    "#Question 10"
   ]
  },
  {
   "cell_type": "code",
   "execution_count": 33,
   "id": "57a5dd27-5930-424a-ae27-57716ea354e8",
   "metadata": {},
   "outputs": [
    {
     "data": {
      "text/plain": [
       "'73'"
      ]
     },
     "execution_count": 33,
     "metadata": {},
     "output_type": "execute_result"
    }
   ],
   "source": [
    "\"7\" + \"3\""
   ]
  },
  {
   "cell_type": "code",
   "execution_count": null,
   "id": "9a34d5b5-8d96-468d-a581-3de5f75a7cc9",
   "metadata": {},
   "outputs": [],
   "source": []
  }
 ],
 "metadata": {
  "kernelspec": {
   "display_name": "Python 3 (ipykernel)",
   "language": "python",
   "name": "python3"
  },
  "language_info": {
   "codemirror_mode": {
    "name": "ipython",
    "version": 3
   },
   "file_extension": ".py",
   "mimetype": "text/x-python",
   "name": "python",
   "nbconvert_exporter": "python",
   "pygments_lexer": "ipython3",
   "version": "3.13.5"
  }
 },
 "nbformat": 4,
 "nbformat_minor": 5
}
