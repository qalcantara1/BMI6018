{
 "cells": [
  {
   "cell_type": "code",
   "execution_count": 1,
   "id": "012d3fbe-7275-4a76-b8ad-4471866369c5",
   "metadata": {},
   "outputs": [],
   "source": [
    "#Question 7"
   ]
  },
  {
   "cell_type": "code",
   "execution_count": 2,
   "id": "17575aac-1e81-439d-ab33-c32330dc898b",
   "metadata": {},
   "outputs": [],
   "source": [
    "Medication = 5"
   ]
  },
  {
   "cell_type": "code",
   "execution_count": 3,
   "id": "b0b2ca11-14b2-432b-a1d3-b8faceb478ad",
   "metadata": {},
   "outputs": [
    {
     "data": {
      "text/plain": [
       "5"
      ]
     },
     "execution_count": 3,
     "metadata": {},
     "output_type": "execute_result"
    }
   ],
   "source": [
    "Medication"
   ]
  },
  {
   "cell_type": "code",
   "execution_count": 4,
   "id": "2140fcf0-d861-4efc-a1ef-fbea765e55b2",
   "metadata": {},
   "outputs": [
    {
     "data": {
      "text/plain": [
       "int"
      ]
     },
     "execution_count": 4,
     "metadata": {},
     "output_type": "execute_result"
    }
   ],
   "source": [
    "type(Medication)"
   ]
  },
  {
   "cell_type": "code",
   "execution_count": null,
   "id": "99439c1d-4b7f-4fb9-8a17-2c109b0100bf",
   "metadata": {},
   "outputs": [],
   "source": []
  }
 ],
 "metadata": {
  "kernelspec": {
   "display_name": "Python 3 (ipykernel)",
   "language": "python",
   "name": "python3"
  },
  "language_info": {
   "codemirror_mode": {
    "name": "ipython",
    "version": 3
   },
   "file_extension": ".py",
   "mimetype": "text/x-python",
   "name": "python",
   "nbconvert_exporter": "python",
   "pygments_lexer": "ipython3",
   "version": "3.13.5"
  }
 },
 "nbformat": 4,
 "nbformat_minor": 5
}
