{
 "cells": [
  {
   "cell_type": "markdown",
   "id": "14e2124d-343b-4178-9790-baa08f124bda",
   "metadata": {},
   "source": [
    "# Question 8 - BMI"
   ]
  },
  {
   "cell_type": "markdown",
   "id": "f180c638-b72d-4b61-ace0-5c24a3136bbb",
   "metadata": {},
   "source": [
    "#### Susan has a weight of 60 kilograms and a height of 1.58 meters. Write Code to Calculate and Print Susan’s Body Mass Index as float. Note: Body Mass Index is a person’s weight in kilograms divided by the square of height in meters. Reference: https://www.cdc.gov/healthyweight/assessing/bmi/adult_bmi/index.html"
   ]
  },
  {
   "cell_type": "markdown",
   "id": "3f2287ec-0068-4b22-ac7d-a896da6c815e",
   "metadata": {},
   "source": [
    "##### Metric Units: weight (kg)/[height (m)]2"
   ]
  },
  {
   "cell_type": "code",
   "execution_count": 2,
   "id": "d1bd327f-23a3-411b-b4e8-807242651550",
   "metadata": {},
   "outputs": [],
   "source": [
    "w = 60"
   ]
  },
  {
   "cell_type": "code",
   "execution_count": 3,
   "id": "d9dc6bf5-918a-4d57-a3f4-39dd794c5617",
   "metadata": {},
   "outputs": [],
   "source": [
    "h = 1.58"
   ]
  },
  {
   "cell_type": "code",
   "execution_count": 4,
   "id": "c6454ae3-83ed-4f3b-83fb-b9a7367cdc07",
   "metadata": {},
   "outputs": [],
   "source": [
    "BMI = w/(h*h)"
   ]
  },
  {
   "cell_type": "code",
   "execution_count": 6,
   "id": "a32d99a7-2eac-46e0-a86f-72aa711a51c0",
   "metadata": {},
   "outputs": [
    {
     "data": {
      "text/plain": [
       "24.034609838166958"
      ]
     },
     "execution_count": 6,
     "metadata": {},
     "output_type": "execute_result"
    }
   ],
   "source": [
    "float(BMI)"
   ]
  },
  {
   "cell_type": "code",
   "execution_count": null,
   "id": "935c57b0-3354-4fa4-99eb-1b1a46a40156",
   "metadata": {},
   "outputs": [],
   "source": []
  }
 ],
 "metadata": {
  "kernelspec": {
   "display_name": "Python 3 (ipykernel)",
   "language": "python",
   "name": "python3"
  },
  "language_info": {
   "codemirror_mode": {
    "name": "ipython",
    "version": 3
   },
   "file_extension": ".py",
   "mimetype": "text/x-python",
   "name": "python",
   "nbconvert_exporter": "python",
   "pygments_lexer": "ipython3",
   "version": "3.13.5"
  }
 },
 "nbformat": 4,
 "nbformat_minor": 5
}
